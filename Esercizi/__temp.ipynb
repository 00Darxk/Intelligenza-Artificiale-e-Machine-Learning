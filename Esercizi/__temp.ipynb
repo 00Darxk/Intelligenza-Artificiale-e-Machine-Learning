{
 "cells": [
  {
   "cell_type": "markdown",
   "metadata": {},
   "source": [
    "# Lista Ordinata"
   ]
  },
  {
   "cell_type": "code",
   "execution_count": null,
   "metadata": {},
   "outputs": [],
   "source": [
    "class Node:\n",
    "    data = None\n",
    "    next = None\n",
    "    \n",
    "    def __init__(self, data, next = None):\n",
    "        self.data = data\n",
    "        self.next = next\n",
    "\n",
    "class List:\n",
    "    def __init__(self):\n",
    "        self.__head = None\n",
    "        self.__tail = None\n",
    "\n",
    "    def add(self, newNode):            \n",
    "        if self.__head == None or self.__head.data > newNode.data:\n",
    "            if self.__head == None:\n",
    "                    self.__tail = newNode\n",
    "            newNode.next = self.__head\n",
    "            self.__head = newNode\n",
    "\n",
    "        elif newNode.data > self.__tail.data:\n",
    "            if self.__tail != None:\n",
    "                self.__tail.next = newNode\n",
    "            if self.__head == None:\n",
    "                self.__head = NewNode\n",
    "            self.__tail = newNode\n",
    "\n",
    "        else:            \n",
    "            p = self.__head\n",
    "            while p.next != None and p.next.data < newNode.data:\n",
    "                p = p.next\n",
    "            newNode.next = p.next\n",
    "            p.next = newNode\n",
    "            \n",
    "    def remove_front(self):\n",
    "        front = self.__head\n",
    "        if front == None:\n",
    "            return None\n",
    "        self.__head = front.next\n",
    "        front.next = None\n",
    "        return front\n",
    "    \n",
    "    def print_list(self):\n",
    "        p = self.__head\n",
    "        while p != None:\n",
    "            print(\"[\",p.data,\"]\",end=' ')\n",
    "            if p.next != None:\n",
    "                print(\"->\", end = ' ')\n",
    "            p = p.next\n",
    "            if p == None:\n",
    "                print(\"\\n\")\n"
   ]
  },
  {
   "cell_type": "code",
   "execution_count": null,
   "metadata": {},
   "outputs": [],
   "source": [
    "import random\n",
    "\n",
    "l1 = List()\n",
    "\n",
    "for i in range(0,10):\n",
    "    l1.print_list()\n",
    "    l1.add(Node(random.randint(1,50)))\n",
    "\n",
    "for i in range(0,10):\n",
    "    l1.print_list()\n",
    "    l1.remove_front()"
   ]
  },
  {
   "cell_type": "markdown",
   "metadata": {},
   "source": [
    "# Algoritmi\n"
   ]
  },
  {
   "cell_type": "markdown",
   "metadata": {},
   "source": [
    "## Greedy\n"
   ]
  },
  {
   "cell_type": "code",
   "execution_count": null,
   "metadata": {},
   "outputs": [],
   "source": [
    "con = {}\n",
    "con['A'] = {\"B\", \"C\", \"D\"}\n",
    "con['B'] = {\"C\", \"E\"}\n",
    "con['C'] = {\"B\", \"E\"}\n",
    "con['D'] = {\"C\", \"F\"}\n",
    "con['E'] = {\"F\", \"A\"}\n",
    "con['F'] = {}\n",
    "print(con)\n",
    "\n",
    "h = {}\n",
    "h['A'] = 9\n",
    "h['B'] = 5\n",
    "h['C'] = 4\n",
    "h['D'] = 7\n",
    "h['E'] = 5\n",
    "h['F'] = 0\n",
    "print(h)"
   ]
  },
  {
   "cell_type": "code",
   "execution_count": null,
   "metadata": {},
   "outputs": [],
   "source": [
    "class State:\n",
    "    def __init__(self, name = None):\n",
    "        if name == None:\n",
    "            self.name = self.getInitialState()\n",
    "        else:\n",
    "            self.name = name\n",
    "            \n",
    "    def getInitialState(self):\n",
    "        initialState = \"A\"\n",
    "        return initialState\n",
    "    \n",
    "    def getSuccessors(self):\n",
    "        return con[self.name]\n",
    "    \n",
    "    def goalTest(self):\n",
    "        return self.name == \"F\"\n",
    "    \n",
    "class Nodo:\n",
    "    def __init__(self, state, parent, h):\n",
    "        self.state = state\n",
    "        self.parent = parent\n",
    "        self.h = h\n",
    "    \n",
    "    def print_path(self):\n",
    "        if self.parent != None:\n",
    "            self.parent.print_path()\n",
    "        if self.parent != None:\n",
    "            print(\"-> \", end='')\n",
    "        print(self.state.name, end=' ')\n",
    "        \n",
    "    # per far funzionare la priority queue con stesso valore di euristica\n",
    "    def __lt__(self, other):\n",
    "        return self.state.name > other.state.name or self.state.name == other.state.name\n",
    "    \n",
    "    # per stampare il nodo\n",
    "    def __repr__(self):\n",
    "        return self.state.name"
   ]
  },
  {
   "cell_type": "code",
   "execution_count": null,
   "metadata": {},
   "outputs": [],
   "source": [
    "import queue"
   ]
  },
  {
   "cell_type": "markdown",
   "metadata": {},
   "source": [
    "### Tree-Search"
   ]
  },
  {
   "cell_type": "code",
   "execution_count": null,
   "metadata": {},
   "outputs": [],
   "source": [
    "def greedy_tree():\n",
    "    fringe = queue.PriorityQueue()\n",
    "    # i = 0\n",
    "    s0 = State()\n",
    "    root = Nodo(s0, None, h[s0.name])\n",
    "    \n",
    "    fringe.put((root.h, root))\n",
    "    while not fringe.empty():\n",
    "        # print(\"Iterazione {:d}\".format(i))\n",
    "        _, currentNode = fringe.get()\n",
    "        \n",
    "        # print(\"     Nodo Espanso: \", currentNode.state.name)\n",
    "        if currentNode.state.goalTest():\n",
    "            # print(\"     Soluzione Individuata: \")\n",
    "            currentNode.print_path()\n",
    "            break\n",
    "        \n",
    "        # print(\"     Figli: \")\n",
    "        children = currentNode.state.getSuccessors()\n",
    "        # figli = \" \"\n",
    "        for child in children:\n",
    "            # figli = figli+\" \"+child\n",
    "            fringe.put((h[child], Nodo(State(child), currentNode, h[child])))\n",
    "        \n",
    "        # print(\"    \",figli,\"\\n    Frontiera: \", fringe.queue)\n",
    "        # i += 1"
   ]
  },
  {
   "cell_type": "code",
   "execution_count": null,
   "metadata": {},
   "outputs": [],
   "source": [
    "greedy_tree()"
   ]
  },
  {
   "cell_type": "markdown",
   "metadata": {},
   "source": [
    "### Graph-Search"
   ]
  },
  {
   "cell_type": "code",
   "execution_count": null,
   "metadata": {},
   "outputs": [],
   "source": [
    "def greedy_graph():\n",
    "    fringe = queue.PriorityQueue()\n",
    "    # i = 0\n",
    "    close=[]\n",
    "    s0 = State()\n",
    "    root = Nodo(s0, None, h[s0.name])\n",
    "    \n",
    "    fringe.put((root.h, root))\n",
    "    while not fringe.empty():\n",
    "        # print(\"Iterazione {:d}\".format(i))\n",
    "        _, currentNode = fringe.get()\n",
    "        \n",
    "        if currentNode.state.name in close:\n",
    "            continue\n",
    "        close.append(currentNode.state.name)\n",
    "        \n",
    "        # print(\"     Nodo Espanso: \", currentNode.state.name)\n",
    "        # print(\"     Close: \", close)\n",
    "        if currentNode.state.goalTest():\n",
    "            # print(\"     Soluzione Individuata: \")\n",
    "            currentNode.print_path()\n",
    "            break\n",
    "        \n",
    "        # print(\"     Figli: \")\n",
    "        children = currentNode.state.getSuccessors()\n",
    "        # figli = \" \"\n",
    "        for child in children:\n",
    "            # figli = figli+\" \"+child\n",
    "            if child not in close:\n",
    "                fringe.put((h[child], Nodo(State(child), currentNode, h[child])))\n",
    "        \n",
    "        # print(\"    \",figli,\"\\n     Frontiera: \", fringe.queue)\n",
    "        # i+=1\n",
    "        # if i >= 100:\n",
    "        #     break"
   ]
  },
  {
   "cell_type": "code",
   "execution_count": null,
   "metadata": {},
   "outputs": [],
   "source": [
    "greedy_graph()"
   ]
  },
  {
   "cell_type": "markdown",
   "metadata": {},
   "source": [
    "# A Star"
   ]
  },
  {
   "cell_type": "code",
   "execution_count": null,
   "metadata": {},
   "outputs": [],
   "source": [
    "con = {}\n",
    "con['A'] = [[\"B\", 3], [\"C\", 2], [\"D\", 2]]\n",
    "con['B'] = [[\"C\", 3], [\"E\", 2]]\n",
    "con['C'] = [[\"B\", 2], [\"E\", 3]]\n",
    "con['D'] = [[\"C\", 3], [\"F\", 7]]\n",
    "con['E'] = [[\"F\", 5], [\"A\", 3]]\n",
    "con['F'] = []\n",
    "print(con)\n",
    "\n",
    "h = {}\n",
    "h['A'] = 9\n",
    "h['B'] = 5\n",
    "h['C'] = 4\n",
    "h['D'] = 7\n",
    "h['E'] = 5\n",
    "h['F'] = 0\n",
    "print(h)"
   ]
  },
  {
   "cell_type": "code",
   "execution_count": null,
   "metadata": {},
   "outputs": [],
   "source": [
    "class Nodo_star:\n",
    "    def __init__(self, state, parent, f, partial):\n",
    "        self.state = state\n",
    "        self.parent = parent\n",
    "        self.f = f\n",
    "        self.partial = partial\n",
    "    \n",
    "    def print_path(self):\n",
    "        if self.parent != None:\n",
    "            self.parent.print_path()\n",
    "        if self.parent != None:\n",
    "            print(\"-> \", end='')\n",
    "        print(self.state.name, end=' ')\n",
    "    \n",
    "    \n",
    "    ## * NON NECESSARIE:\n",
    "    # per risolvere conflitti di elementi nella frontiera con stesso valore f\n",
    "    def __lt__(self, other):\n",
    "        return self.state.name > other.state.name or self.state.name == other.state.name\n",
    "    \n",
    "    # per stampare il nodo\n",
    "    def __repr__(self):\n",
    "        return self.state.name\n"
   ]
  },
  {
   "cell_type": "markdown",
   "metadata": {},
   "source": [
    "## Tree-Search"
   ]
  },
  {
   "cell_type": "code",
   "execution_count": null,
   "metadata": {},
   "outputs": [],
   "source": [
    "def a_star_tree():\n",
    "    fringe = queue.PriorityQueue()\n",
    "    \n",
    "    # i = 0\n",
    "    s0 = State()\n",
    "    root = Nodo_star(s0, None, h[s0.name], 0)\n",
    "    \n",
    "    fringe.put((root.f, root))\n",
    "    \n",
    "    while not fringe.empty():\n",
    "        # print(\"Iterazione {:d}\".format(i))\n",
    "        _, currentNode = fringe.get()\n",
    "        \n",
    "        # print(\"     Nodo Espanso: \", currentNode.state.name)\n",
    "        if currentNode.state.goalTest():\n",
    "            # print(\"     Soluzione Individuata: \")\n",
    "            currentNode.print_path()\n",
    "            break\n",
    "        \n",
    "        # print(\"     Figli: \")\n",
    "        children = currentNode.state.getSuccessors()\n",
    "        # figli = \" \"\n",
    "        for child, distance in children:\n",
    "            # figli = figli+\" \"+child\n",
    "            g = currentNode.partial + distance\n",
    "            f = g + h[child]\n",
    "            fringe.put((f, Nodo_star(State(child), currentNode, f, g)))\n",
    "            \n",
    "        # print(\"    \",figli,\"\\n     Frontiera: \", fringe.queue)\n",
    "        # i += 1"
   ]
  },
  {
   "cell_type": "code",
   "execution_count": null,
   "metadata": {},
   "outputs": [],
   "source": [
    "a_star_tree()"
   ]
  },
  {
   "cell_type": "markdown",
   "metadata": {},
   "source": [
    "## Graph-Search"
   ]
  },
  {
   "cell_type": "code",
   "execution_count": null,
   "metadata": {},
   "outputs": [],
   "source": [
    "def a_star_graph():\n",
    "    fringe = queue.PriorityQueue()\n",
    "    close = []\n",
    "    \n",
    "    # i = 0\n",
    "    s0 = State()\n",
    "    root = Nodo_star(s0, None, h[s0.name], 0)\n",
    "    \n",
    "    fringe.put((root.f, root))\n",
    "    \n",
    "    while not fringe.empty():\n",
    "        # print(\"Iterazione {:d}\".format(i))\n",
    "        _, currentNode = fringe.get()\n",
    "        \n",
    "        if currentNode.state.name in close:\n",
    "            break\n",
    "        close.append(currentNode.state.name)\n",
    "        \n",
    "        # print(\"     Nodo Espanso: \", currentNode.state.name)\n",
    "        # print(\"     Close: \", close)\n",
    "        if currentNode.state.goalTest():\n",
    "            # print(\"     Soluzione Individuata: \")\n",
    "            currentNode.print_path()\n",
    "            break\n",
    "        \n",
    "        # print(\"     Figli: \")\n",
    "        children = currentNode.state.getSuccessors()\n",
    "        # figli = \" \"\n",
    "        for child, distance in children:\n",
    "            if child in close:\n",
    "                continue\n",
    "            # figli = figli+\" \"+child\n",
    "            g = currentNode.partial + distance\n",
    "            f = g + h[child]\n",
    "            fringe.put((f, Nodo_star(State(child), currentNode, f, g)))\n",
    "            \n",
    "        # print(\"    \",figli,\"\\n     Frontiera: \", fringe.queue)\n",
    "        # i += 1"
   ]
  },
  {
   "cell_type": "code",
   "execution_count": null,
   "metadata": {},
   "outputs": [],
   "source": [
    "a_star_graph()"
   ]
  },
  {
   "cell_type": "markdown",
   "metadata": {},
   "source": [
    "## First-Choice Hill-Climbing"
   ]
  },
  {
   "cell_type": "code",
   "execution_count": null,
   "metadata": {},
   "outputs": [],
   "source": [
    "import string\n",
    "import random\n",
    "\n",
    "\n",
    "obb = \"barolo balatro\"\n",
    "length = len(obb)"
   ]
  },
  {
   "cell_type": "code",
   "execution_count": null,
   "metadata": {},
   "outputs": [],
   "source": [
    "def initialize():\n",
    "    return [random.choice(string.printable) for _ in range(0,length)]"
   ]
  },
  {
   "cell_type": "code",
   "execution_count": null,
   "metadata": {},
   "outputs": [],
   "source": [
    "def eval(sol):\n",
    "    trg = list(\"barolo balatro\")\n",
    "    eval = 0\n",
    "    for i in range(0,length):\n",
    "        eval += abs(ord(sol[i])-ord(trg[i]))\n",
    "    return eval"
   ]
  },
  {
   "cell_type": "code",
   "execution_count": null,
   "metadata": {},
   "outputs": [],
   "source": [
    "def tweak(sol):\n",
    "    i = random.randint(0,length - 1)\n",
    "    sol[i] = random.choice(string.printable)\n",
    "    return sol"
   ]
  },
  {
   "cell_type": "code",
   "execution_count": null,
   "metadata": {},
   "outputs": [],
   "source": [
    "def first_choice_hill_climbing():\n",
    "    current = initialize()\n",
    "    currentEval = eval(current)\n",
    "    \n",
    "    # i = 0\n",
    "    \n",
    "    # print(\"Iterazione: \",i)\n",
    "    # print(\"Stato Iniziale: \", current)\n",
    "    # print(\"Stato Obiettivo: \", obb)\n",
    "    # print(\"Distanza: \", currentEval)\n",
    "    \n",
    "    \n",
    "    while True and currentEval != 0 :\n",
    "        i += 1\n",
    "        next = tweak(list(current))\n",
    "        # tweak(next)\n",
    "        nextEval = eval(next)\n",
    "        \n",
    "        if nextEval < currentEval:\n",
    "            # print(\"Iterazione: \",i)\n",
    "            # print(\"Nuovo Stato: \", next)\n",
    "            # print(\"Nuova Distanza: \", nextEval)\n",
    "            current = next\n",
    "            currentEval = nextEval\n",
    "    # print(\"Stato Raggiunto in\", i, \"iterazioni\", end=' ')"
   ]
  },
  {
   "cell_type": "code",
   "execution_count": null,
   "metadata": {},
   "outputs": [],
   "source": [
    "first_choice_hill_climbing()"
   ]
  },
  {
   "cell_type": "markdown",
   "metadata": {},
   "source": [
    "## Simulated Annealing"
   ]
  },
  {
   "cell_type": "code",
   "execution_count": null,
   "metadata": {},
   "outputs": [],
   "source": [
    "import math\n",
    "import random\n",
    "import numpy\n",
    "\n",
    "size = 20\n",
    "TMax = 40\n",
    "TMin = 0.2\n",
    "alpha = 0.99\n",
    "steps = 100"
   ]
  },
  {
   "cell_type": "code",
   "execution_count": null,
   "metadata": {},
   "outputs": [],
   "source": [
    "def tweak(sol):\n",
    "    copy = numpy.copy(sol)\n",
    "    x = random.randint(0,size-1)\n",
    "    y = random.randint(0,size-1)\n",
    "    while x == y:\n",
    "        y = random.randint(0,size-1)\n",
    "    temp = copy[y]\n",
    "    copy[y] = copy[x]\n",
    "    copy[x] = temp\n",
    "    return copy"
   ]
  },
  {
   "cell_type": "code",
   "execution_count": null,
   "metadata": {},
   "outputs": [],
   "source": [
    "def initialize(sol):\n",
    "    for _ in range(0, size):\n",
    "        sol = tweak(sol)\n",
    "    return sol"
   ]
  },
  {
   "cell_type": "code",
   "execution_count": null,
   "metadata": {},
   "outputs": [],
   "source": [
    "def energy(sol):\n",
    "    board = [[0] * size for _ in range(size)]\n",
    "    \n",
    "    for i in range(0,size):\n",
    "        board[sol[i]][i] = \"q\"\n",
    "    \n",
    "    dx = [1, 1, -1, -1]\n",
    "    dy = [1,-1,  1, -1]\n",
    "    \n",
    "    eval = 0\n",
    "    \n",
    "    for i in range(0,size):\n",
    "        x = sol[i]\n",
    "        y = i\n",
    "        for j in range(0,4):\n",
    "            tempx = x\n",
    "            tempy = y\n",
    "            while True:\n",
    "                tempx += dx[j]\n",
    "                tempy += dy[j]\n",
    "                if tempx >= size or tempy >= size or tempx < 0 or tempy < 0:\n",
    "                    break\n",
    "                if board[tempx][tempy] == \"q\":\n",
    "                    eval += 1\n",
    "    return eval"
   ]
  },
  {
   "cell_type": "code",
   "execution_count": null,
   "metadata": {},
   "outputs": [],
   "source": [
    "def simulated_annealing():\n",
    "    current = initialize(range(0,size))\n",
    "    currentEval = energy(current)\n",
    "    T = TMax\n",
    "    \n",
    "    best = current\n",
    "    bestEval = currentEval\n",
    "\n",
    "    # i = 0\n",
    "\n",
    "    while T > TMin and bestEval != 0:        \n",
    "        for _ in range(0,steps):\n",
    "            next = tweak(current)\n",
    "            nextEval = energy(next)\n",
    "            \n",
    "            if nextEval < currentEval or random.random() < math.exp((currentEval-nextEval)/T):\n",
    "                current = next\n",
    "                currentEval = nextEval\n",
    "                if currentEval < bestEval:\n",
    "                    best = current\n",
    "                    bestEval = currentEval    \n",
    "        # print(\"\\nIterazione: \", i)\n",
    "        # print(\"Energia: \", bestEval)\n",
    "        # print(\"Temperatura: \", T)\n",
    "        # i += 1\n",
    "        T = T*alpha   "
   ]
  },
  {
   "cell_type": "code",
   "execution_count": null,
   "metadata": {},
   "outputs": [],
   "source": [
    "simulated_annealing()"
   ]
  }
 ],
 "metadata": {
  "kernelspec": {
   "display_name": "base",
   "language": "python",
   "name": "python3"
  },
  "language_info": {
   "codemirror_mode": {
    "name": "ipython",
    "version": 3
   },
   "file_extension": ".py",
   "mimetype": "text/x-python",
   "name": "python",
   "nbconvert_exporter": "python",
   "pygments_lexer": "ipython3",
   "version": "3.12.4"
  }
 },
 "nbformat": 4,
 "nbformat_minor": 2
}
